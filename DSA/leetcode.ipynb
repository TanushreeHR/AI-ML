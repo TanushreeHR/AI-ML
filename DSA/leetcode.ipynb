{
 "cells": [
  {
   "cell_type": "code",
   "execution_count": 3,
   "metadata": {},
   "outputs": [],
   "source": [
    "from typing import List"
   ]
  },
  {
   "cell_type": "code",
   "execution_count": 13,
   "metadata": {},
   "outputs": [
    {
     "name": "stdout",
     "output_type": "stream",
     "text": [
      "f\n",
      "f\n",
      "f\n",
      "l\n",
      "l\n",
      "l\n",
      "o\n",
      "o\n",
      "i\n"
     ]
    },
    {
     "data": {
      "text/plain": [
       "'fl'"
      ]
     },
     "execution_count": 13,
     "metadata": {},
     "output_type": "execute_result"
    }
   ],
   "source": [
    "\n",
    "s = [\"flower\", \"flow\", \"flight\"]\n",
    "\n",
    "\n",
    "def longest_sring(strs:List[str]) -> str:\n",
    "    if not strs:\n",
    "       return \"\"\n",
    "\n",
    "    min_length = float('inf')\n",
    "\n",
    "    min_length = min(len(s) for s in strs)\n",
    "\n",
    "    i = 0\n",
    "    while i < min_length:\n",
    "        current_char = strs[0][i]\n",
    "        for s in strs:\n",
    "            print(s[i])\n",
    "            if i >= len(s) or s[i] != current_char:\n",
    "                return strs[0][:i]\n",
    "        i += 1\n",
    "        \n",
    "        # Return the prefix if the loop completes\n",
    "    return strs[0][:min_length]\n",
    "\n",
    "longest_sring(s)"
   ]
  },
  {
   "cell_type": "code",
   "execution_count": 17,
   "metadata": {},
   "outputs": [
    {
     "data": {
      "text/plain": [
       "['0->2', '4->5', '7']"
      ]
     },
     "execution_count": 17,
     "metadata": {},
     "output_type": "execute_result"
    }
   ],
   "source": [
    "#228 Summary range\n",
    "\n",
    "nums = [0,1,2,4,5,7]\n",
    "\n",
    "def summary_ranging(nums:List[int]) -> List[str]:\n",
    "    ans = []\n",
    "    i = 0\n",
    "\n",
    "    while i < len(nums):\n",
    "        start = nums[i]\n",
    "        while (i < len(nums) - 1) and nums[i] + 1 == nums[i+1]:\n",
    "            i += 1\n",
    "\n",
    "        if start != nums[i]:\n",
    "            ans.append(str(start) + '->' + str(nums[i]))\n",
    "        else:\n",
    "            ans.append(str(nums[i]))\n",
    "\n",
    "        i += 1\n",
    "\n",
    "    return ans\n",
    " \n",
    "summary_ranging(nums)"
   ]
  },
  {
   "cell_type": "code",
   "execution_count": 25,
   "metadata": {},
   "outputs": [
    {
     "name": "stdout",
     "output_type": "stream",
     "text": [
      "[1, 1, 1, 1]\n",
      "[1, 1, 1, 1]\n",
      "[1, 1, 2, 1]\n",
      "[1, 1, 2, 6]\n"
     ]
    },
    {
     "data": {
      "text/plain": [
       "[24, 12, 4, 1]"
      ]
     },
     "execution_count": 25,
     "metadata": {},
     "output_type": "execute_result"
    }
   ],
   "source": [
    "#238 Product of array except self\n",
    "\n",
    "nums = [1,2,3,4] \n",
    "\n",
    "def productExceptSelf(nums: List[int]) -> List[int]:\n",
    "    n = len(nums)\n",
    "    answer = [1] * n\n",
    "\n",
    "    left_product = 1\n",
    "    for i in range(n):\n",
    "        answer[i] = left_product\n",
    "        left_product *= nums[i]\n",
    "        print(answer)\n",
    "\n",
    "    right_product = 1\n",
    "    for i in range(n-1,-1, -1):\n",
    "        answer[i] = right_product\n",
    "        right_product *= nums[i]\n",
    "        # print(right_product)\n",
    "\n",
    "    return answer\n",
    "\n",
    "productExceptSelf(nums)"
   ]
  },
  {
   "cell_type": "code",
   "execution_count": 11,
   "metadata": {},
   "outputs": [
    {
     "data": {
      "text/plain": [
       "[1, 2]"
      ]
     },
     "execution_count": 11,
     "metadata": {},
     "output_type": "execute_result"
    }
   ],
   "source": [
    "from collections import Counter\n",
    "import heapq\n",
    "\n",
    "\n",
    "def topKFrequent(nums: List[int], k: int) -> List[int]:\n",
    "    count = Counter(nums)\n",
    "\n",
    "    output = heapq.nlargest(k,count.keys(),key=count.get)\n",
    "    return output\n",
    "\n",
    "\n",
    "topKFrequent([1,1,1,2,2,3],2)"
   ]
  },
  {
   "cell_type": "code",
   "execution_count": null,
   "metadata": {},
   "outputs": [
    {
     "name": "stdout",
     "output_type": "stream",
     "text": [
      "Counter({1: 3, 2: 2, 3: 1})\n",
      "[1, 1, 1, 2, 2, 3]\n",
      "3\n",
      "[1, 1, 1, 2, 2, 3]\n",
      "2\n",
      "[1, 1, 1, 2, 2, 3]\n",
      "1\n",
      "3\n",
      "2\n"
     ]
    },
    {
     "data": {
      "text/plain": [
       "[1, 2]"
      ]
     },
     "execution_count": 20,
     "metadata": {},
     "output_type": "execute_result"
    }
   ],
   "source": [
    "def top_k_frequent(nums, k):\n",
    "    # Step 1: Count frequencies\n",
    "    freq_map = Counter(nums)\n",
    "    \n",
    "    # Step 2: Create buckets (index -> frequency)\n",
    "    max_freq = max(freq_map.values())\n",
    "    buckets = [[] for _ in range(max_freq + 1)]\n",
    "    \n",
    "    for num, freq in freq_map.items():\n",
    "        buckets[freq].append(num)\n",
    "    \n",
    "    # Step 3: Collect top k elements from buckets\n",
    "    top_k = []\n",
    "    for i in range(max_freq, 0, -1):\n",
    "        for num in buckets[i]:\n",
    "            top_k.append(num)\n",
    "            if len(top_k) == k:\n",
    "                return top_k\n",
    "            \n",
    "top_k_frequent([1,1,1,2,2,3],2)"
   ]
  },
  {
   "cell_type": "code",
   "execution_count": 21,
   "metadata": {},
   "outputs": [
    {
     "data": {
      "text/plain": [
       "[24, 12, 8, 6]"
      ]
     },
     "execution_count": 21,
     "metadata": {},
     "output_type": "execute_result"
    }
   ],
   "source": [
    "nums = [1,2,3,4] \n",
    "\n",
    "def productExceptSelf(nums: List[int]) -> List[int]:\n",
    "    res = [1] * (len(nums))\n",
    "\n",
    "    prefix = 1\n",
    "    for i in range(len(nums)):\n",
    "        res[i] = prefix\n",
    "        prefix *= nums[i]\n",
    "\n",
    "    postfix = 1\n",
    "    for i in range(len(nums)-1, -1, -1):\n",
    "        res[i] *= postfix\n",
    "        postfix *= nums[i]\n",
    "\n",
    "    return res\n",
    "\n",
    "productExceptSelf(nums)"
   ]
  },
  {
   "cell_type": "code",
   "execution_count": 25,
   "metadata": {},
   "outputs": [
    {
     "data": {
      "text/plain": [
       "True"
      ]
     },
     "execution_count": 25,
     "metadata": {},
     "output_type": "execute_result"
    }
   ],
   "source": [
    "def is_valid_sudoku(board):\n",
    "    rows = [set() for i in range(9)]\n",
    "    columns = [set() for i in range(9)]\n",
    "    boxes = [set() for i in range(9)]\n",
    "\n",
    "    for r in range(9):\n",
    "        for c in range(9):\n",
    "            num = board[r][c]\n",
    "            box_index = (r // 3) * 3 + (c // 3)\n",
    "\n",
    "            if num == \".\":\n",
    "                continue\n",
    "            if (num in rows[r] or num in columns[c] or num in boxes[box_index]):\n",
    "                return False\n",
    "            \n",
    "            rows[r].add(num)\n",
    "            columns[c].add(num)\n",
    "            boxes[box_index].add(num)\n",
    "    return True\n",
    "\n",
    "\n",
    "sudoku_board = [\n",
    "    [\"5\", \"3\", \".\", \".\", \"7\", \".\", \".\", \".\", \".\"],\n",
    "    [\"6\", \".\", \".\", \"1\", \"9\", \"5\", \".\", \".\", \".\"],\n",
    "    [\".\", \"9\", \"8\", \".\", \".\", \".\", \".\", \"6\", \".\"],\n",
    "    [\"8\", \".\", \".\", \".\", \"6\", \".\", \".\", \".\", \"3\"],\n",
    "    [\"4\", \".\", \".\", \"8\", \".\", \"3\", \".\", \".\", \"1\"],\n",
    "    [\"7\", \".\", \".\", \".\", \"2\", \".\", \".\", \".\", \"6\"],\n",
    "    [\".\", \"6\", \".\", \".\", \".\", \".\", \"2\", \"8\", \".\"],\n",
    "    [\".\", \".\", \".\", \"4\", \"1\", \"9\", \".\", \".\", \"5\"],\n",
    "    [\".\", \".\", \".\", \".\", \"8\", \".\", \".\", \"7\", \"9\"]\n",
    "]\n",
    "\n",
    "result = is_valid_sudoku(sudoku_board)\n",
    "result"
   ]
  },
  {
   "cell_type": "code",
   "execution_count": 29,
   "metadata": {},
   "outputs": [
    {
     "name": "stdout",
     "output_type": "stream",
     "text": [
      "4\n"
     ]
    }
   ],
   "source": [
    "strs = \"4#neet\"\n",
    "len = strs[:1]\n",
    "print(len)"
   ]
  },
  {
   "cell_type": "code",
   "execution_count": 30,
   "metadata": {},
   "outputs": [
    {
     "data": {
      "text/plain": [
       "'neet'"
      ]
     },
     "execution_count": 30,
     "metadata": {},
     "output_type": "execute_result"
    }
   ],
   "source": [
    "strs[2:6]"
   ]
  },
  {
   "cell_type": "code",
   "execution_count": 6,
   "metadata": {},
   "outputs": [
    {
     "data": {
      "text/plain": [
       "'4#neet4#code'"
      ]
     },
     "execution_count": 6,
     "metadata": {},
     "output_type": "execute_result"
    }
   ],
   "source": [
    "def encode(strs: List[str]) -> str:\n",
    "    res = \"\"\n",
    "    for s in strs:\n",
    "        res += str(len(s)) + \"#\" + s\n",
    "    return res\n",
    "\n",
    "def decode(s: str) -> List[str]:\n",
    "    res, i = [], 0\n",
    "    \n",
    "    while i < len(s):\n",
    "        j = i\n",
    "        while s[j] != \"#\":\n",
    "            j += 1\n",
    "\n",
    "        length = int(s[i:j])\n",
    "        res.append(s[j+1 : j+1+length])\n",
    "        i = j+1+length\n",
    "    return res\n",
    "\n",
    "strs = ['neet','code']\n",
    "en = encode(strs)\n",
    "en"
   ]
  },
  {
   "cell_type": "code",
   "execution_count": 7,
   "metadata": {},
   "outputs": [
    {
     "data": {
      "text/plain": [
       "['neet', 'code']"
      ]
     },
     "execution_count": 7,
     "metadata": {},
     "output_type": "execute_result"
    }
   ],
   "source": [
    "dn = decode(en)\n",
    "dn"
   ]
  },
  {
   "cell_type": "code",
   "execution_count": 8,
   "metadata": {},
   "outputs": [
    {
     "data": {
      "text/plain": [
       "True"
      ]
     },
     "execution_count": 8,
     "metadata": {},
     "output_type": "execute_result"
    }
   ],
   "source": [
    "# valid palindrome\n",
    "\n",
    "def isPalindrome(s: str) -> bool:\n",
    "    newStr = \"\"\n",
    "\n",
    "    for c in s:\n",
    "        if c.isalnum():\n",
    "            newStr += c.lower()\n",
    "\n",
    "    return newStr ==  newStr[::-1]\n",
    "\n",
    "isPalindrome(\"A man, a plan, a canal: Panama\")\n"
   ]
  },
  {
   "cell_type": "code",
   "execution_count": 9,
   "metadata": {},
   "outputs": [
    {
     "name": "stdout",
     "output_type": "stream",
     "text": [
      "0\n",
      "1\n",
      "2\n",
      "4\n",
      "5\n",
      "7\n"
     ]
    }
   ],
   "source": [
    "\n",
    "nums = [0,1,2,4,5,7]\n",
    "\n",
    "for i in nums:\n",
    "    print(i)"
   ]
  },
  {
   "cell_type": "code",
   "execution_count": 3,
   "metadata": {},
   "outputs": [
    {
     "name": "stdout",
     "output_type": "stream",
     "text": [
      "1\n",
      "-2\n",
      "1\n",
      "1\n",
      "-3\n",
      "1\n",
      "-2\n",
      "1\n",
      "4\n",
      "-2\n",
      "4\n",
      "4\n",
      "-1\n",
      "4\n",
      "3\n",
      "4\n",
      "2\n",
      "3\n",
      "5\n",
      "5\n",
      "1\n",
      "5\n",
      "6\n",
      "6\n",
      "-5\n",
      "6\n",
      "1\n",
      "6\n",
      "4\n",
      "1\n",
      "5\n",
      "6\n"
     ]
    }
   ],
   "source": [
    "nums = [-2,1,-3,4,-1,2,1,-5,4]\n",
    "\n",
    "max_sum = curr_sum = nums[0]\n",
    "for num in nums[1:]:\n",
    "    print(num)\n",
    "    print(curr_sum)\n",
    "    curr_sum = max(num, curr_sum + num)\n",
    "    print(curr_sum)\n",
    "    max_sum = max(max_sum, curr_sum)\n",
    "    print(max_sum)\n"
   ]
  },
  {
   "cell_type": "code",
   "execution_count": null,
   "metadata": {},
   "outputs": [],
   "source": [
    "nums = [2,3,-2,4]\n",
    "\n",
    "max_prod= nums[0]\n",
    "curr = 0\n",
    "for n in nums:\n",
    "    curr *= n\n",
    "    max_prod = max(max_prod,curr)\n"
   ]
  },
  {
   "cell_type": "code",
   "execution_count": 4,
   "metadata": {},
   "outputs": [
    {
     "name": "stdout",
     "output_type": "stream",
     "text": [
      "4294967295\n"
     ]
    }
   ],
   "source": [
    "print(0xffffffff)"
   ]
  }
 ],
 "metadata": {
  "kernelspec": {
   "display_name": ".venv",
   "language": "python",
   "name": "python3"
  },
  "language_info": {
   "codemirror_mode": {
    "name": "ipython",
    "version": 3
   },
   "file_extension": ".py",
   "mimetype": "text/x-python",
   "name": "python",
   "nbconvert_exporter": "python",
   "pygments_lexer": "ipython3",
   "version": "3.8.10"
  }
 },
 "nbformat": 4,
 "nbformat_minor": 2
}
